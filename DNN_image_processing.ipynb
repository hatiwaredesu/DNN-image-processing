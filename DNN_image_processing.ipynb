{
  "nbformat": 4,
  "nbformat_minor": 0,
  "metadata": {
    "colab": {
      "provenance": [],
      "gpuType": "T4"
    },
    "kernelspec": {
      "name": "python3",
      "display_name": "Python 3"
    },
    "language_info": {
      "name": "python"
    },
    "accelerator": "GPU"
  },
  "cells": [
    {
      "cell_type": "code",
      "execution_count": 15,
      "metadata": {
        "id": "Mw0gKGARB18O"
      },
      "outputs": [],
      "source": [
        "import numpy as np\n",
        "import matplotlib.pyplot as plt\n",
        "\n",
        "import torch\n",
        "import torch.nn as nn\n",
        "import torch.optim as optim\n",
        "import torchvision.datasets as datasets\n",
        "import torchvision.transforms as transforms\n",
        "from torch.utils.data import DataLoader"
      ]
    },
    {
      "cell_type": "code",
      "source": [
        "device = torch.device('cuda:0' if torch.cuda.is_available() else 'cpu')\n",
        "print(device)"
      ],
      "metadata": {
        "colab": {
          "base_uri": "https://localhost:8080/"
        },
        "id": "CXw64oHXDIXv",
        "outputId": "37fbe4e0-73bd-41b4-86fe-1dd0069cd84b"
      },
      "execution_count": 16,
      "outputs": [
        {
          "output_type": "stream",
          "name": "stdout",
          "text": [
            "cuda:0\n"
          ]
        }
      ]
    },
    {
      "cell_type": "code",
      "source": [
        "from torchvision.datasets.utils import T\n",
        "data_root = './data'\n",
        "\n",
        "transform = transforms.Compose([\n",
        "    transforms.ToTensor(),\n",
        "    transforms.Normalize(0.5,0.5),\n",
        "    transforms.Lambda(lambda x : x.view(-1)),\n",
        "])\n",
        "\n",
        "train_set = datasets.MNIST(\n",
        "     root = data_root,\n",
        "     train = True,\n",
        "     download = True,\n",
        "     transform = transform\n",
        ")  \n",
        "\n",
        "test_set = datasets.MNIST(\n",
        "     root = data_root,\n",
        "     train = False,\n",
        "     download = True,\n",
        "     transform = transform\n",
        ")   "
      ],
      "metadata": {
        "id": "Rqu90rBtEwxR"
      },
      "execution_count": 24,
      "outputs": []
    },
    {
      "cell_type": "code",
      "source": [
        "image, label = train_set[0]\n",
        "print('Image type:', type(image))\n",
        "print('Image shape:', image.shape)"
      ],
      "metadata": {
        "colab": {
          "base_uri": "https://localhost:8080/"
        },
        "id": "PUKipuuJImiL",
        "outputId": "d1abd9ae-0bff-4cff-b5bd-8241fd7abcd4"
      },
      "execution_count": 22,
      "outputs": [
        {
          "output_type": "stream",
          "name": "stdout",
          "text": [
            "Image type: <class 'torch.Tensor'>\n",
            "Image shape: torch.Size([784])\n"
          ]
        }
      ]
    },
    {
      "cell_type": "code",
      "source": [
        "image, label = test_set[0]\n",
        "print(len(test_set))\n",
        "print('Image type:', type(image))\n",
        "print('Image shape:', image.shape)"
      ],
      "metadata": {
        "colab": {
          "base_uri": "https://localhost:8080/"
        },
        "id": "gUBzGg6qLOCe",
        "outputId": "eee1f670-bd20-48a0-ab8c-d3476d1c6c7a"
      },
      "execution_count": 26,
      "outputs": [
        {
          "output_type": "stream",
          "name": "stdout",
          "text": [
            "10000\n",
            "Image type: <class 'torch.Tensor'>\n",
            "Image shape: torch.Size([784])\n"
          ]
        }
      ]
    },
    {
      "cell_type": "code",
      "source": [
        "print('min: ', image.data.min())\n",
        "print('max: ', image.data.max())"
      ],
      "metadata": {
        "colab": {
          "base_uri": "https://localhost:8080/"
        },
        "id": "7_YaMEtqJUIL",
        "outputId": "03509ae0-1f8c-4857-b78c-908cba459f4e"
      },
      "execution_count": 23,
      "outputs": [
        {
          "output_type": "stream",
          "name": "stdout",
          "text": [
            "min:  tensor(-1.)\n",
            "max:  tensor(1.)\n"
          ]
        }
      ]
    },
    {
      "cell_type": "code",
      "source": [
        "len(train_set)"
      ],
      "metadata": {
        "colab": {
          "base_uri": "https://localhost:8080/"
        },
        "id": "mFSVr3zNFivc",
        "outputId": "bd6a62f5-14cc-4f6a-cdc5-b760e2288db2"
      },
      "execution_count": 13,
      "outputs": [
        {
          "output_type": "execute_result",
          "data": {
            "text/plain": [
              "60000"
            ]
          },
          "metadata": {},
          "execution_count": 13
        }
      ]
    },
    {
      "cell_type": "code",
      "source": [
        "image, label = train_set[0]\n",
        "plt.figure(figsize=(1,1))\n",
        "plt.title(f'{label}')\n",
        "plt.imshow(image, cmap='gray_r')\n",
        "plt.show()"
      ],
      "metadata": {
        "colab": {
          "base_uri": "https://localhost:8080/",
          "height": 160
        },
        "id": "xTYj5IViGEVG",
        "outputId": "c326fe4a-a492-43a9-a1c2-6cbdadc2ecd3"
      },
      "execution_count": 9,
      "outputs": [
        {
          "output_type": "display_data",
          "data": {
            "text/plain": [
              "<Figure size 100x100 with 1 Axes>"
            ],
            "image/png": "[encoded data removed]"
          },
          "metadata": {}
        }
      ]
    },
    {
      "cell_type": "code",
      "source": [
        "batch_size = 500\n",
        "\n",
        "train_loader = DataLoader(\n",
        "    train_set,\n",
        "    batch_size = batch_size,\n",
        "    shuffle = True\n",
        ")\n",
        "\n",
        "test_loader = DataLoader(\n",
        "    test_set,\n",
        "    batch_size = batch_size,\n",
        "    shuffle = True\n",
        ")"
      ],
      "metadata": {
        "id": "UDpCHe21Grzf"
      },
      "execution_count": 27,
      "outputs": []
    },
    {
      "cell_type": "code",
      "source": [
        "len(train_loader)"
      ],
      "metadata": {
        "colab": {
          "base_uri": "https://localhost:8080/"
        },
        "id": "j5Gq-4_AMN0K",
        "outputId": "593d2f83-aa36-40f3-e34b-b4ea45680cfa"
      },
      "execution_count": 28,
      "outputs": [
        {
          "output_type": "execute_result",
          "data": {
            "text/plain": [
              "120"
            ]
          },
          "metadata": {},
          "execution_count": 28
        }
      ]
    },
    {
      "cell_type": "code",
      "source": [
        "for image, label in train_loader:\n",
        "    break\n",
        "print(image.shape)\n",
        "print(label.shape)"
      ],
      "metadata": {
        "colab": {
          "base_uri": "https://localhost:8080/"
        },
        "id": "WUNQ3lY6McXl",
        "outputId": "48671229-ba57-48c5-9bc5-5778f5ca9389"
      },
      "execution_count": 29,
      "outputs": [
        {
          "output_type": "stream",
          "name": "stdout",
          "text": [
            "torch.Size([500, 784])\n",
            "torch.Size([500])\n"
          ]
        }
      ]
    },
    {
      "cell_type": "code",
      "source": [
        "n_input = 784\n",
        "n_output = 10\n",
        "n_hidden = 128"
      ],
      "metadata": {
        "id": "mGgGW_GaNVfZ"
      },
      "execution_count": 30,
      "outputs": []
    },
    {
      "cell_type": "code",
      "source": [
        "class Net(nn.Module):\n",
        "    def __init__(self, n_input, n_output, n_hidden):\n",
        "        super().__init__()\n",
        "        self.l1 = nn.Linear(n_input, n_hidden)\n",
        "        self.l2 = nn.Linear(n_hidden, n_output)\n",
        "        self.relu = nn.ReLU(inplace=True)\n",
        "\n",
        "    def forward(self, x):\n",
        "        x1 = self.l1(x)\n",
        "        x2 = self.relu(x1)\n",
        "        x3 = self.l2(x2)\n",
        "        return x3"
      ],
      "metadata": {
        "id": "woWEbqJ8Nnoq"
      },
      "execution_count": 32,
      "outputs": []
    },
    {
      "cell_type": "code",
      "source": [
        "net = Net(n_input, n_output, n_hidden).to(device)"
      ],
      "metadata": {
        "id": "oJZPWmotO2xz"
      },
      "execution_count": 33,
      "outputs": []
    },
    {
      "cell_type": "code",
      "source": [
        "criterion = nn.CrossEntropyLoss()"
      ],
      "metadata": {
        "id": "lDSCqQy1Q9yp"
      },
      "execution_count": 34,
      "outputs": []
    },
    {
      "cell_type": "code",
      "source": [
        "lr = 0.01\n",
        "optimizer = optim.SGD(net.parameters(), lr = lr)"
      ],
      "metadata": {
        "id": "0FLlU2y5RXMv"
      },
      "execution_count": 35,
      "outputs": []
    },
    {
      "cell_type": "code",
      "source": [
        "history = np.zeros((0,5))\n",
        "history"
      ],
      "metadata": {
        "colab": {
          "base_uri": "https://localhost:8080/"
        },
        "id": "NZR3l0V5SYl1",
        "outputId": "cca5184f-aa8b-4a09-c11d-dce473412ede"
      },
      "execution_count": 37,
      "outputs": [
        {
          "output_type": "execute_result",
          "data": {
            "text/plain": [
              "array([], shape=(0, 5), dtype=float64)"
            ]
          },
          "metadata": {},
          "execution_count": 37
        }
      ]
    },
    {
      "cell_type": "code",
      "source": [
        "from tqdm.notebook import tqdm"
      ],
      "metadata": {
        "id": "F5sIbTXYSjRI"
      },
      "execution_count": 38,
      "outputs": []
    },
    {
      "cell_type": "code",
      "source": [
        "num_epoch = 100\n",
        "\n",
        "for epoch in range(num_epoch):\n",
        "    train_acc, train_loss = 0, 0\n",
        "    val_acc, val_loss = 0, 0\n",
        "    n_train, n_test = 0, 0\n",
        "\n",
        "    for inputs, labels in tqdm(train_loader):\n",
        "        n_train += len(labels)\n",
        "        inputs = inputs.to(device)\n",
        "        labels = labels.to(device)\n",
        "\n",
        "        optimizer.zero_grad()\n",
        "        outputs = net(inputs)\n",
        "        loss = criterion(outputs, labels)\n",
        "        loss.backward()\n",
        "\n",
        "        optimizer.step()\n",
        "        predicted = torch.max(outputs, 1)[1]\n",
        "\n",
        "        train_loss += loss.item()\n",
        "        train_acc += (predicted == labels).sum().item()\n",
        "    \n",
        "    for inputs_test, labels_test in test_loader:\n",
        "        n_test += len(labels_test)\n",
        "\n",
        "        inputs_test = inputs_test.to(device)\n",
        "        labels_test = labels_test.to(device)\n",
        "\n",
        "        outputs_test = net(inputs_test)\n",
        "\n",
        "        loss_test = criterion(outputs_test, labels_test)\n",
        "\n",
        "        predicted_test = torch.max(outputs, 1)[1]\n",
        "\n",
        "        val_loss += loss_test.item()\n",
        "        val_acc += (predicted_test == labels_test).sum().item()\n",
        "\n",
        "    train_acc = train_acc / n_train\n",
        "    val_acc = val_acc / n_test\n",
        "    train_loss = train_loss * batch_size / n_train\n",
        "    val_loss = val_loss * batch_size / n_test\n",
        "\n",
        "    print(f'Epoch [{epoch+1}/{num_epoch}],loss: {train_loss:5f} acc: {train_acc:5f} val_loss:{val_loss:5f}, val_acc: {val_acc: 5f}')\n",
        "    items = np.array([epoch+1, train_loss, train_acc, val_loss, val_acc])\n",
        "    history = np.vstack((history, items))"
      ],
      "metadata": {
        "id": "oYyMf3ljSy8r"
      },
      "execution_count": null,
      "outputs": []
    },
    {
      "cell_type": "code",
      "source": [
        "#損失と精度の確認\n",
        "print(f'初期状態: 損失 {history[0,3]:5f} 精度: {history[0,4]:5f}')\n",
        "print(f'最終状態: 損失 {history[0,3]:5f} 精度: {history[0,4]:5f}')"
      ],
      "metadata": {
        "colab": {
          "base_uri": "https://localhost:8080/"
        },
        "id": "dc7PaHEGTaHR",
        "outputId": "9f9c2173-239c-4da5-dd6a-328711fc1faa"
      },
      "execution_count": 52,
      "outputs": [
        {
          "output_type": "stream",
          "name": "stdout",
          "text": [
            "初期状態: 損失 0.499069 精度: 0.097600\n",
            "最終状態: 損失 0.499069 精度: 0.097600\n"
          ]
        }
      ]
    },
    {
      "cell_type": "code",
      "source": [
        "#学習曲線の表示（損失）\n",
        "plt.rcParams['figure.figsize'] = (9,8)\n",
        "plt.plot(history[:,0], history[:,1], 'b', label='train')\n",
        "plt.plot(history[:,0], history[:,1], 'k', label='test')\n",
        "plt.xlabel('iter')\n",
        "plt.ylabel('loss')\n",
        "plt.title('loss carve')\n",
        "plt.legend()\n",
        "plt.show()"
      ],
      "metadata": {
        "colab": {
          "base_uri": "https://localhost:8080/",
          "height": 718
        },
        "id": "ybjY6GzpVQ1Q",
        "outputId": "69975c76-c4a4-4700-aae3-687648a4d0e9"
      },
      "execution_count": 56,
      "outputs": [
        {
          "output_type": "display_data",
          "data": {
            "text/plain": [
              "<Figure size 900x800 with 1 Axes>"
            ],
            "image/png": "[encoded data removed]"
          },
          "metadata": {}
        }
      ]
    },
    {
      "cell_type": "code",
      "source": [
        "#学習曲線の表示（精度）\n",
        "plt.rcParams['figure.figsize'] = (8,6)\n",
        "plt.plot(history[:,0], history[:,2], 'b', label='train')\n",
        "plt.plot(history[:,0], history[:,2], 'k', label='test')\n",
        "plt.xlabel('iter')\n",
        "plt.ylabel('acc')\n",
        "plt.title('accuracy')\n",
        "plt.legend()\n",
        "plt.show()"
      ],
      "metadata": {
        "colab": {
          "base_uri": "https://localhost:8080/",
          "height": 564
        },
        "id": "81qqoK4cVa2r",
        "outputId": "3c7f873f-744b-4ee6-9d93-304a3aecdfa7"
      },
      "execution_count": 54,
      "outputs": [
        {
          "output_type": "display_data",
          "data": {
            "text/plain": [
              "<Figure size 800x600 with 1 Axes>"
            ],
            "image/png": "[encoded data removed]"
          },
          "metadata": {}
        }
      ]
    },
    {
      "cell_type": "code",
      "source": [],
      "metadata": {
        "id": "CPDl0YarjQAA"
      },
      "execution_count": null,
      "outputs": []
    }
  ]
}