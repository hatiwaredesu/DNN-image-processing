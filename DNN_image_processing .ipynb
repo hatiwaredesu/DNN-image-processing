{
  "cells": [
    {
      "cell_type": "code",
      "execution_count": 1,
      "metadata": {
        "id": "Mw0gKGARB18O"
      },
      "outputs": [],
      "source": [
        "import numpy as np\n",
        "import matplotlib.pyplot as plt\n",
        "\n",
        "import torch\n",
        "import torch.nn as nn\n",
        "import torch.optim as optim\n",
        "import torchvision.datasets as datasets\n",
        "import torchvision.transforms as transforms\n",
        "from torch.utils.data import DataLoader"
      ]
    },
    {
      "cell_type": "code",
      "execution_count": 2,
      "metadata": {
        "colab": {
          "base_uri": "https://localhost:8080/"
        },
        "id": "CXw64oHXDIXv",
        "outputId": "0c2b626b-4c7f-4eaa-d285-f8f303c04860"
      },
      "outputs": [
        {
          "output_type": "stream",
          "name": "stdout",
          "text": [
            "cpu\n"
          ]
        }
      ],
      "source": [
        "device = torch.device('cuda:0' if torch.cuda.is_available() else 'cpu')\n",
        "print(device)"
      ]
    },
    {
      "cell_type": "code",
      "execution_count": 3,
      "metadata": {
        "colab": {
          "base_uri": "https://localhost:8080/"
        },
        "id": "Rqu90rBtEwxR",
        "outputId": "4266f71f-9cd9-42fb-893e-e39139f94956"
      },
      "outputs": [
        {
          "output_type": "stream",
          "name": "stdout",
          "text": [
            "Downloading http://yann.lecun.com/exdb/mnist/train-images-idx3-ubyte.gz\n",
            "Downloading http://yann.lecun.com/exdb/mnist/train-images-idx3-ubyte.gz to ./data/MNIST/raw/train-images-idx3-ubyte.gz\n"
          ]
        },
        {
          "output_type": "stream",
          "name": "stderr",
          "text": [
            "100%|██████████| 9912422/9912422 [00:00<00:00, 118630476.30it/s]\n"
          ]
        },
        {
          "output_type": "stream",
          "name": "stdout",
          "text": [
            "Extracting ./data/MNIST/raw/train-images-idx3-ubyte.gz to ./data/MNIST/raw\n",
            "\n",
            "Downloading http://yann.lecun.com/exdb/mnist/train-labels-idx1-ubyte.gz\n",
            "Downloading http://yann.lecun.com/exdb/mnist/train-labels-idx1-ubyte.gz to ./data/MNIST/raw/train-labels-idx1-ubyte.gz\n"
          ]
        },
        {
          "output_type": "stream",
          "name": "stderr",
          "text": [
            "100%|██████████| 28881/28881 [00:00<00:00, 9975763.31it/s]\n"
          ]
        },
        {
          "output_type": "stream",
          "name": "stdout",
          "text": [
            "Extracting ./data/MNIST/raw/train-labels-idx1-ubyte.gz to ./data/MNIST/raw\n",
            "\n",
            "Downloading http://yann.lecun.com/exdb/mnist/t10k-images-idx3-ubyte.gz\n",
            "Downloading http://yann.lecun.com/exdb/mnist/t10k-images-idx3-ubyte.gz to ./data/MNIST/raw/t10k-images-idx3-ubyte.gz\n"
          ]
        },
        {
          "output_type": "stream",
          "name": "stderr",
          "text": [
            "100%|██████████| 1648877/1648877 [00:00<00:00, 35193764.14it/s]"
          ]
        },
        {
          "output_type": "stream",
          "name": "stdout",
          "text": [
            "Extracting ./data/MNIST/raw/t10k-images-idx3-ubyte.gz to ./data/MNIST/raw\n"
          ]
        },
        {
          "output_type": "stream",
          "name": "stderr",
          "text": [
            "\n"
          ]
        },
        {
          "output_type": "stream",
          "name": "stdout",
          "text": [
            "\n",
            "Downloading http://yann.lecun.com/exdb/mnist/t10k-labels-idx1-ubyte.gz\n",
            "Downloading http://yann.lecun.com/exdb/mnist/t10k-labels-idx1-ubyte.gz to ./data/MNIST/raw/t10k-labels-idx1-ubyte.gz\n"
          ]
        },
        {
          "output_type": "stream",
          "name": "stderr",
          "text": [
            "100%|██████████| 4542/4542 [00:00<00:00, 16565677.19it/s]\n"
          ]
        },
        {
          "output_type": "stream",
          "name": "stdout",
          "text": [
            "Extracting ./data/MNIST/raw/t10k-labels-idx1-ubyte.gz to ./data/MNIST/raw\n",
            "\n"
          ]
        }
      ],
      "source": [
        "from torchvision.datasets.utils import T\n",
        "data_root = './data'\n",
        "\n",
        "transform = transforms.Compose([\n",
        "    transforms.ToTensor(),\n",
        "    transforms.Normalize(0.5,0.5),\n",
        "    transforms.Lambda(lambda x : x.view(-1)),\n",
        "])\n",
        "\n",
        "train_set = datasets.MNIST(\n",
        "     root = data_root,\n",
        "     train = True,\n",
        "     download = True,\n",
        "     transform = transform\n",
        ")\n",
        "\n",
        "test_set = datasets.MNIST(\n",
        "     root = data_root,\n",
        "     train = False,\n",
        "     download = True,\n",
        "     transform = transform\n",
        ")"
      ]
    },
    {
      "cell_type": "code",
      "execution_count": 4,
      "metadata": {
        "colab": {
          "base_uri": "https://localhost:8080/"
        },
        "id": "PUKipuuJImiL",
        "outputId": "359b4430-50e4-444d-b5fb-441f3d42e9f9"
      },
      "outputs": [
        {
          "output_type": "stream",
          "name": "stdout",
          "text": [
            "Image type: <class 'torch.Tensor'>\n",
            "Image shape: torch.Size([784])\n"
          ]
        }
      ],
      "source": [
        "image, label = train_set[0]\n",
        "print('Image type:', type(image))\n",
        "print('Image shape:', image.shape)"
      ]
    },
    {
      "cell_type": "code",
      "execution_count": 5,
      "metadata": {
        "colab": {
          "base_uri": "https://localhost:8080/"
        },
        "id": "gUBzGg6qLOCe",
        "outputId": "a79b2588-a379-4611-b10e-a0b8dc6b383b"
      },
      "outputs": [
        {
          "output_type": "stream",
          "name": "stdout",
          "text": [
            "10000\n",
            "Image type: <class 'torch.Tensor'>\n",
            "Image shape: torch.Size([784])\n"
          ]
        }
      ],
      "source": [
        "image, label = test_set[0]\n",
        "print(len(test_set))\n",
        "print('Image type:', type(image))\n",
        "print('Image shape:', image.shape)"
      ]
    },
    {
      "cell_type": "code",
      "execution_count": 6,
      "metadata": {
        "colab": {
          "base_uri": "https://localhost:8080/"
        },
        "id": "7_YaMEtqJUIL",
        "outputId": "651701ef-d195-45e3-9f22-b812a4940daa"
      },
      "outputs": [
        {
          "output_type": "stream",
          "name": "stdout",
          "text": [
            "min:  tensor(-1.)\n",
            "max:  tensor(1.)\n"
          ]
        }
      ],
      "source": [
        "print('min: ', image.data.min())\n",
        "print('max: ', image.data.max())"
      ]
    },
    {
      "cell_type": "code",
      "execution_count": 7,
      "metadata": {
        "colab": {
          "base_uri": "https://localhost:8080/"
        },
        "id": "mFSVr3zNFivc",
        "outputId": "42123d5a-d930-4d9a-a0ee-71843cce3b97"
      },
      "outputs": [
        {
          "output_type": "execute_result",
          "data": {
            "text/plain": [
              "60000"
            ]
          },
          "metadata": {},
          "execution_count": 7
        }
      ],
      "source": [
        "len(train_set)"
      ]
    },
    {
      "cell_type": "code",
      "execution_count": 9,
      "metadata": {
        "id": "UDpCHe21Grzf"
      },
      "outputs": [],
      "source": [
        "batch_size = 500\n",
        "\n",
        "train_loader = DataLoader(\n",
        "    train_set,\n",
        "    batch_size = batch_size,\n",
        "    shuffle = True\n",
        ")\n",
        "\n",
        "test_loader = DataLoader(\n",
        "    test_set,\n",
        "    batch_size = batch_size,\n",
        "    shuffle = True\n",
        ")"
      ]
    },
    {
      "cell_type": "code",
      "execution_count": 10,
      "metadata": {
        "colab": {
          "base_uri": "https://localhost:8080/"
        },
        "id": "j5Gq-4_AMN0K",
        "outputId": "db7eb739-6178-4d19-8cdf-a76a7e361337"
      },
      "outputs": [
        {
          "output_type": "execute_result",
          "data": {
            "text/plain": [
              "120"
            ]
          },
          "metadata": {},
          "execution_count": 10
        }
      ],
      "source": [
        "len(train_loader)"
      ]
    },
    {
      "cell_type": "code",
      "execution_count": 11,
      "metadata": {
        "colab": {
          "base_uri": "https://localhost:8080/"
        },
        "id": "WUNQ3lY6McXl",
        "outputId": "9eb6a36f-0f28-42bc-e789-3f84aea3912e"
      },
      "outputs": [
        {
          "output_type": "stream",
          "name": "stdout",
          "text": [
            "torch.Size([500, 784])\n",
            "torch.Size([500])\n"
          ]
        }
      ],
      "source": [
        "for image, label in train_loader:\n",
        "    break\n",
        "print(image.shape)\n",
        "print(label.shape)"
      ]
    },
    {
      "cell_type": "code",
      "execution_count": 12,
      "metadata": {
        "id": "mGgGW_GaNVfZ"
      },
      "outputs": [],
      "source": [
        "n_input = 784\n",
        "n_output = 10\n",
        "n_hidden = 128"
      ]
    },
    {
      "cell_type": "code",
      "execution_count": 13,
      "metadata": {
        "id": "woWEbqJ8Nnoq"
      },
      "outputs": [],
      "source": [
        "class Net(nn.Module):\n",
        "    def __init__(self, n_input, n_output, n_hidden):\n",
        "        super().__init__()\n",
        "        self.l1 = nn.Linear(n_input, n_hidden)\n",
        "        self.l2 = nn.Linear(n_hidden, n_output)\n",
        "        self.relu = nn.ReLU(inplace=True)\n",
        "\n",
        "    def forward(self, x):\n",
        "        x1 = self.l1(x)\n",
        "        x2 = self.relu(x1)\n",
        "        x3 = self.l2(x2)\n",
        "        return x3"
      ]
    },
    {
      "cell_type": "code",
      "execution_count": 14,
      "metadata": {
        "id": "oJZPWmotO2xz"
      },
      "outputs": [],
      "source": [
        "net = Net(n_input, n_output, n_hidden).to(device)"
      ]
    },
    {
      "cell_type": "code",
      "execution_count": 15,
      "metadata": {
        "id": "lDSCqQy1Q9yp"
      },
      "outputs": [],
      "source": [
        "criterion = nn.CrossEntropyLoss()"
      ]
    },
    {
      "cell_type": "code",
      "execution_count": 16,
      "metadata": {
        "id": "0FLlU2y5RXMv"
      },
      "outputs": [],
      "source": [
        "lr = 0.01\n",
        "optimizer = optim.SGD(net.parameters(), lr = lr)"
      ]
    },
    {
      "cell_type": "code",
      "execution_count": 17,
      "metadata": {
        "colab": {
          "base_uri": "https://localhost:8080/"
        },
        "id": "NZR3l0V5SYl1",
        "outputId": "acd7b6bf-e7ea-42e7-85af-1efb5d20cd42"
      },
      "outputs": [
        {
          "output_type": "execute_result",
          "data": {
            "text/plain": [
              "array([], shape=(0, 5), dtype=float64)"
            ]
          },
          "metadata": {},
          "execution_count": 17
        }
      ],
      "source": [
        "history = np.zeros((0,5))\n",
        "history"
      ]
    },
    {
      "cell_type": "code",
      "execution_count": 18,
      "metadata": {
        "id": "F5sIbTXYSjRI"
      },
      "outputs": [],
      "source": [
        "from tqdm.notebook import tqdm"
      ]
    },
    {
      "cell_type": "code",
      "execution_count": null,
      "metadata": {
        "id": "oYyMf3ljSy8r"
      },
      "outputs": [],
      "source": [
        "num_epoch = 100\n",
        "\n",
        "for epoch in range(num_epoch):\n",
        "    train_acc, train_loss = 0, 0\n",
        "    val_acc, val_loss = 0, 0\n",
        "    n_train, n_test = 0, 0\n",
        "\n",
        "    for inputs, labels in tqdm(train_loader):\n",
        "        n_train += len(labels)\n",
        "        inputs = inputs.to(device)\n",
        "        labels = labels.to(device)\n",
        "\n",
        "        optimizer.zero_grad()\n",
        "        outputs = net(inputs)\n",
        "        loss = criterion(outputs, labels)\n",
        "        loss.backward()\n",
        "\n",
        "        optimizer.step()\n",
        "        predicted = torch.max(outputs, 1)[1]\n",
        "\n",
        "        train_loss += loss.item()\n",
        "        train_acc += (predicted == labels).sum().item()\n",
        "\n",
        "    for inputs_test, labels_test in test_loader:\n",
        "        n_test += len(labels_test)\n",
        "\n",
        "        inputs_test = inputs_test.to(device)\n",
        "        labels_test = labels_test.to(device)\n",
        "\n",
        "        outputs_test = net(inputs_test)\n",
        "\n",
        "        loss_test = criterion(outputs_test, labels_test)\n",
        "\n",
        "        predicted_test = torch.max(outputs, 1)[1]\n",
        "\n",
        "        val_loss += loss_test.item()\n",
        "        val_acc += (predicted_test == labels_test).sum().item()\n",
        "\n",
        "    train_acc = train_acc / n_train\n",
        "    val_acc = val_acc / n_test\n",
        "    train_loss = train_loss * batch_size / n_train\n",
        "    val_loss = val_loss * batch_size / n_test\n",
        "\n",
        "    print(f'Epoch [{epoch+1}/{num_epoch}],loss: {train_loss:5f} acc: {train_acc:5f} val_loss:{val_loss:5f}, val_acc: {val_acc: 5f}')\n",
        "    items = np.array([epoch+1, train_loss, train_acc, val_loss, val_acc])\n",
        "    history = np.vstack((history, items))"
      ]
    },
    {
      "cell_type": "code",
      "execution_count": 20,
      "metadata": {
        "colab": {
          "base_uri": "https://localhost:8080/"
        },
        "id": "dc7PaHEGTaHR",
        "outputId": "798eed83-90ed-43ef-9632-492ac90b7166"
      },
      "outputs": [
        {
          "output_type": "stream",
          "name": "stdout",
          "text": [
            "初期状態: 損失 1.330140 精度: 0.103200\n",
            "最終状態: 損失 0.161721 精度: 0.101900\n"
          ]
        }
      ],
      "source": [
        "#損失と精度の確認\n",
        "print(f'初期状態: 損失 {history[0,3]:5f} 精度: {history[0,4]:5f}')\n",
        "print(f'最終状態: 損失 {history[-1,3]:5f} 精度: {history[-1,4]:5f}')"
      ]
    },
    {
      "cell_type": "code",
      "execution_count": 21,
      "metadata": {
        "colab": {
          "base_uri": "https://localhost:8080/",
          "height": 718
        },
        "id": "ybjY6GzpVQ1Q",
        "outputId": "c3214e2c-5e5b-46b7-ed36-69476de4fac7"
      },
      "outputs": [
        {
          "output_type": "display_data",
          "data": {
            "text/plain": [
              "<Figure size 900x800 with 1 Axes>"
            ],
            "image/png": "[encoded data removed]"
          },
          "metadata": {}
        }
      ],
      "source": [
        "#学習曲線の表示（損失）\n",
        "plt.rcParams['figure.figsize'] = (9,8)\n",
        "plt.plot(history[:,0], history[:,1], 'b', label='train')\n",
        "plt.plot(history[:,0], history[:,3], 'k', label='test')\n",
        "plt.xlabel('iter')\n",
        "plt.ylabel('loss')\n",
        "plt.title('loss carve')\n",
        "plt.legend()\n",
        "plt.show()"
      ]
    },
    {
      "cell_type": "code",
      "source": [],
      "metadata": {
        "id": "US-Sjw22uMSE"
      },
      "execution_count": 35,
      "outputs": []
    },
    {
      "cell_type": "code",
      "source": [],
      "metadata": {
        "id": "6eWYn7FUuMOm"
      },
      "execution_count": null,
      "outputs": []
    },
    {
      "cell_type": "code",
      "source": [],
      "metadata": {
        "id": "sTyolWDouMMh"
      },
      "execution_count": null,
      "outputs": []
    },
    {
      "cell_type": "code",
      "source": [],
      "metadata": {
        "id": "121NmExXrFf3"
      },
      "execution_count": 35,
      "outputs": []
    },
    {
      "cell_type": "code",
      "source": [],
      "metadata": {
        "id": "LstuKr2urRZ8"
      },
      "execution_count": 35,
      "outputs": []
    },
    {
      "cell_type": "code",
      "execution_count": 35,
      "metadata": {
        "id": "CPDl0YarjQAA"
      },
      "outputs": [],
      "source": []
    },
    {
      "cell_type": "code",
      "source": [
        "\n"
      ],
      "metadata": {
        "id": "-pxw5UOQr7IM"
      },
      "execution_count": 35,
      "outputs": []
    },
    {
      "cell_type": "code",
      "source": [],
      "metadata": {
        "id": "cTZZhBVvsgq0"
      },
      "execution_count": null,
      "outputs": []
    }
  ],
  "metadata": {
    "accelerator": "GPU",
    "colab": {
      "provenance": [],
      "gpuType": "T4"
    },
    "kernelspec": {
      "display_name": "Python 3",
      "name": "python3"
    },
    "language_info": {
      "name": "python"
    }
  },
  "nbformat": 4,
  "nbformat_minor": 0
}